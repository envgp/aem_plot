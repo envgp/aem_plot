{
 "cells": [
  {
   "cell_type": "markdown",
   "id": "8db90f8a",
   "metadata": {},
   "source": [
    "# A to Z for plotting a resistivity model from airborne electromagnetic data\n",
    "\n",
    "Author: Seogi Kang (email: sgkang09@stanford.edu)\n",
    "\n",
    "## Resources\n",
    "- Slides: https://bit.ly/aem_plot_slides\n",
    "- Video: TBA\n",
    "- Code: https://github.com/envgp/aem_plot"
   ]
  },
  {
   "cell_type": "code",
   "execution_count": null,
   "id": "c5ba74ea",
   "metadata": {},
   "outputs": [],
   "source": [
    "import numpy as np\n",
    "import pandas as pd\n",
    "import matplotlib.pyplot as plt\n",
    "from SimPEG.electromagnetics.utils.em1d_utils import Stitched1DModel, plot_layer\n",
    "from scipy.spatial import cKDTree as KDTree\n",
    "import matplotlib\n",
    "matplotlib.rcParams['font.size'] = 14"
   ]
  },
  {
   "cell_type": "markdown",
   "id": "81c12ad8",
   "metadata": {},
   "source": [
    "## Step 1: Load the AEM resistivity data"
   ]
  },
  {
   "cell_type": "code",
   "execution_count": null,
   "id": "21b6fae5",
   "metadata": {},
   "outputs": [],
   "source": [
    "import io\n",
    "def read_work_bench_xyz_mod(fname):\n",
    "    with open(fname, 'r') as fid:\n",
    "        lines = fid.readlines()\n",
    "    n_header_max = 100\n",
    "    for ii, line in enumerate(lines):\n",
    "        if '/' in line:\n",
    "            pass\n",
    "        else:\n",
    "            break\n",
    "\n",
    "    header = lines[ii-1].split()[1:]\n",
    "    n_columns = len(header)\n",
    "    n_sounding = len(lines[ii:])\n",
    "    data = np.zeros((n_sounding, n_columns))\n",
    "    for jj, line in enumerate(lines[ii:]):\n",
    "        data[jj,:] = np.array(line.split(), dtype=float)\n",
    "    df = pd.DataFrame(data=data, columns=header)\n",
    "    tmp_thk = np.array(header)[['THK' in header for header in header]]\n",
    "    thk_names = tmp_thk[:int(len(tmp_thk)/2)]\n",
    "    tmp_rho = np.array(header)[['RHO' in header for header in header]]\n",
    "    rho_names = tmp_rho[:int(len(tmp_thk)/2)+1]\n",
    "    topo = df[['UTMX', 'UTMY', 'ELEVATION']].values[:, :]\n",
    "    hz = np.unique(df[thk_names].values)\n",
    "    hz = np.r_[hz, hz[-1]]\n",
    "    resistivity= df[rho_names].values[:,:]\n",
    "    line = df['LINE_NO'].values\n",
    "    return df, topo, hz, resistivity, line"
   ]
  },
  {
   "cell_type": "code",
   "execution_count": null,
   "id": "c6966979",
   "metadata": {},
   "outputs": [],
   "source": [
    "file_name = \"../data/Kwh_SCI3i_MOD_inv.xyz\"\n",
    "df, topography, hz, resistivity, line = read_work_bench_xyz_mod(file_name)"
   ]
  },
  {
   "cell_type": "code",
   "execution_count": null,
   "id": "8b6fe4a0",
   "metadata": {},
   "outputs": [],
   "source": [
    "df.keys()"
   ]
  },
  {
   "cell_type": "code",
   "execution_count": null,
   "id": "ea88596a",
   "metadata": {},
   "outputs": [],
   "source": [
    "resistivity.shape"
   ]
  },
  {
   "cell_type": "code",
   "execution_count": null,
   "id": "2482fa3d",
   "metadata": {},
   "outputs": [],
   "source": [
    "hz"
   ]
  },
  {
   "cell_type": "code",
   "execution_count": null,
   "id": "2bbcc44b",
   "metadata": {},
   "outputs": [],
   "source": [
    "topography.shape"
   ]
  },
  {
   "cell_type": "code",
   "execution_count": null,
   "id": "3b65c375",
   "metadata": {},
   "outputs": [],
   "source": [
    "np.unique(line)"
   ]
  },
  {
   "cell_type": "code",
   "execution_count": null,
   "id": "ec38c68f",
   "metadata": {},
   "outputs": [],
   "source": [
    "resistivity_vec = resistivity.flatten()"
   ]
  },
  {
   "cell_type": "code",
   "execution_count": null,
   "id": "d6098b3b",
   "metadata": {},
   "outputs": [],
   "source": [
    "resistivity_vec.shape"
   ]
  },
  {
   "cell_type": "code",
   "execution_count": null,
   "id": "0668b929",
   "metadata": {},
   "outputs": [],
   "source": [
    "time_stamp = df['TIMESTAMP'].values"
   ]
  },
  {
   "cell_type": "code",
   "execution_count": null,
   "id": "7eb9021b",
   "metadata": {},
   "outputs": [],
   "source": [
    "fig  = plt.figure(figsize=(10, 10))\n",
    "# plt.plot(topography[:,0], topography[:,1], '.', ms=1)\n",
    "out = plt.scatter(topography[:,0], topography[:,1], c=topography[:,2], s=5)\n",
    "plt.colorbar(out, fraction=0.03)\n",
    "plt.gca().set_aspect(1)"
   ]
  },
  {
   "cell_type": "markdown",
   "id": "8823325c",
   "metadata": {},
   "source": [
    "## Step 2: Initiate `Stitched1DModel`"
   ]
  },
  {
   "cell_type": "code",
   "execution_count": null,
   "id": "7f5b4ee8",
   "metadata": {},
   "outputs": [],
   "source": [
    "resistivity.astype(float)"
   ]
  },
  {
   "cell_type": "code",
   "execution_count": null,
   "id": "92b92a7c",
   "metadata": {},
   "outputs": [],
   "source": [
    "model = Stitched1DModel(\n",
    "    topography=topography,\n",
    "    line=line,\n",
    "    hz=hz,\n",
    "    time_stamp=time_stamp, \n",
    "    physical_property=resistivity_vec\n",
    ")"
   ]
  },
  {
   "cell_type": "markdown",
   "id": "7ef26e5b",
   "metadata": {},
   "source": [
    "## Step3: Plot a vertical resistivity profile"
   ]
  },
  {
   "cell_type": "code",
   "execution_count": null,
   "id": "74a9b4a5",
   "metadata": {},
   "outputs": [],
   "source": [
    "from ipywidgets import widgets, interact"
   ]
  },
  {
   "cell_type": "code",
   "execution_count": null,
   "id": "4946c807",
   "metadata": {},
   "outputs": [],
   "source": [
    "topography[i_sounding,:]"
   ]
  },
  {
   "cell_type": "code",
   "execution_count": null,
   "id": "d86fee05",
   "metadata": {},
   "outputs": [],
   "source": [
    "i_sounding = 1000\n",
    "fig, ax = plt.subplots(1,1, figsize=(5, 7))\n",
    "plot_layer(resistivity[i_sounding,:], model.mesh_1d, ax=ax, showlayers=True)\n",
    "ylim = ax.get_ylim()\n",
    "ax.set_ylim(ylim[1], ylim[0])\n",
    "ax.set_xlabel(\"Resistivity ($\\Omega$m)\")"
   ]
  },
  {
   "cell_type": "code",
   "execution_count": null,
   "id": "abfc7385",
   "metadata": {},
   "outputs": [],
   "source": [
    "# TODO: Add this functionality into Stitched1DModel\n",
    "def interact_plot_layer(i_sounding):\n",
    "    fig, ax = plt.subplots(1,1, figsize=(5, 7))\n",
    "    plot_layer(resistivity[i_sounding,:], model.mesh_1d, ax=ax, showlayers=True)\n",
    "    ylim = ax.get_ylim()\n",
    "    ax.set_ylim(ylim[1], ylim[0])\n",
    "    ax.set_xlabel(\"Resistivity ($\\Omega$m)\")\n",
    "    ax.set_title(\"Line number: {:.0f}\\n Sounding number: {:.0f}\".format(line[i_sounding], i_sounding), fontsize=14)\n",
    "interact(\n",
    "    interact_plot_layer, \n",
    "    i_sounding=widgets.IntSlider(min=0, max=df.shape[0]-1, step=1, value=0), \n",
    "    continuous_update=False\n",
    ")"
   ]
  },
  {
   "cell_type": "markdown",
   "id": "eb3af196",
   "metadata": {},
   "source": [
    "## Step 4: Plot a vertical section"
   ]
  },
  {
   "cell_type": "code",
   "execution_count": null,
   "id": "805dd68b",
   "metadata": {},
   "outputs": [],
   "source": [
    "# Find unique line numbers\n",
    "unique_line = np.unique(line)"
   ]
  },
  {
   "cell_type": "code",
   "execution_count": null,
   "id": "ca37be30",
   "metadata": {},
   "outputs": [],
   "source": [
    "unique_line[i_line]"
   ]
  },
  {
   "cell_type": "code",
   "execution_count": null,
   "id": "fb0403c3",
   "metadata": {},
   "outputs": [],
   "source": [
    "fig, ax = plt.subplots(1,1, figsize=(10, 10))\n",
    "i_line = 0\n",
    "ind_line = line == unique_line[i_line]\n",
    "ax.plot(topography[:,0], topography[:,1], '.', ms=1)\n",
    "ax.plot(topography[ind_line,0], topography[ind_line,1], '.', ms=5, color='r')\n",
    "ax.set_aspect(1)\n",
    "ax.set_xlabel(\"Easting (m)\")\n",
    "ax.set_ylabel(\"Northing (m)\")\n",
    "ax.set_title(\"Line number: {:.0f}\".format(unique_line[i_line]))"
   ]
  },
  {
   "cell_type": "code",
   "execution_count": null,
   "id": "f8aabe54",
   "metadata": {},
   "outputs": [],
   "source": [
    "def foo(i_line):\n",
    "    fig, ax = plt.subplots(1,1, figsize=(10, 10))\n",
    "    ind_line = line == unique_line[i_line]\n",
    "    ax.plot(topography[:,0], topography[:,1], '.', ms=1)\n",
    "    ax.plot(topography[ind_line,0], topography[ind_line,1], '.', ms=5, color='r')\n",
    "    ax.set_aspect(1)\n",
    "    ax.set_xlabel(\"Easting (m)\")\n",
    "    ax.set_ylabel(\"Northing (m)\")\n",
    "    ax.set_title(\"Line number: {:.0f}\".format(unique_line[i_line]))\n",
    "interact(foo, i_line=widgets.IntSlider(min=0, max=100, step=1, value=0))"
   ]
  },
  {
   "cell_type": "code",
   "execution_count": null,
   "id": "b5f2ac0b",
   "metadata": {},
   "outputs": [],
   "source": [
    "i_line = 11\n",
    "quad, ax, cb = model.plot_section(i_line=i_line, x_axis='distance', aspect=10, cmap='turbo', clim=(8, 100), dx=20)\n",
    "cb.set_label(\"Resistivity ($\\Omega$m)\")\n",
    "# ax.set_xlim(0, 1000)"
   ]
  },
  {
   "cell_type": "markdown",
   "id": "bf6977e5",
   "metadata": {},
   "source": [
    "## Step 5: Plot resistivity values of a each layer as points"
   ]
  },
  {
   "cell_type": "code",
   "execution_count": null,
   "id": "7950eedd",
   "metadata": {},
   "outputs": [],
   "source": [
    "from matplotlib.colors import LogNorm\n",
    "fig  = plt.figure(figsize=(10, 10))\n",
    "i_layer = 4\n",
    "out = plt.scatter(\n",
    "    topography[:,0], topography[:,1], c=resistivity[:,i_layer], \n",
    "    s=10, \n",
    "    norm=LogNorm(vmin=8, vmax=100), \n",
    "    cmap='turbo'\n",
    ")\n",
    "plt.xlabel(\"Easting (m)\")\n",
    "plt.ylabel(\"Northing (m)\")\n",
    "plt.colorbar(out, fraction=0.03)\n",
    "plt.gca().set_aspect(1)"
   ]
  },
  {
   "cell_type": "code",
   "execution_count": null,
   "id": "53be616a",
   "metadata": {},
   "outputs": [],
   "source": [
    "def foo(i_layer):\n",
    "    fig  = plt.figure(figsize=(10, 10))\n",
    "    out = plt.scatter(\n",
    "        topography[:,0], topography[:,1], c=resistivity[:,i_layer], \n",
    "        s=10, \n",
    "        norm=LogNorm(vmin=8, vmax=100), \n",
    "        cmap='turbo'\n",
    "    )\n",
    "    plt.xlabel(\"Easting (m)\")\n",
    "    plt.ylabel(\"Northing (m)\")\n",
    "    plt.colorbar(out, fraction=0.03)\n",
    "    plt.gca().set_aspect(1)\n",
    "    plt.title(\"{:.0f}-th layer\".format(i_layer+1))\n",
    "interact(foo, i_layer=widgets.IntSlider(min=0, max=39, step=1, value=0))    "
   ]
  },
  {
   "cell_type": "markdown",
   "id": "0d0448f7",
   "metadata": {},
   "source": [
    "## Step 6: Plot resistivity values as a 2D map"
   ]
  },
  {
   "cell_type": "code",
   "execution_count": null,
   "id": "24a560ce",
   "metadata": {},
   "outputs": [],
   "source": [
    "from scipy.spatial import cKDTree as KDTree\n",
    "from verde import distance_mask\n",
    "def inverse_distance_interpolation(\n",
    "    xy, values, \n",
    "    dx=100, dy=100, x_pad=1000, y_pad=1000,\n",
    "    power=0, epsilon=None, k_nearest_points=20, \n",
    "    max_distance=4000.,\n",
    "):\n",
    "    \"\"\"\n",
    "        Evaluating 2D inverse distance weighting interpolation\n",
    "        for given (x, y) points and values.\n",
    "        \n",
    "        Inverse distance weight, w, can be written as:\n",
    "            w = 1/(distance+epsilon)**power\n",
    "        \n",
    "        Parameters\n",
    "        ----------\n",
    "        xy : array_like\n",
    "            Input array including (x, y) locations; (n_locations, 2)\n",
    "        values: array_like\n",
    "            Input array including values defined at (x, y) locations; (n_locations, )\n",
    "        dx : int \n",
    "            Size of the uniform grid in x-direction\n",
    "        dy : int \n",
    "            Size of the uniform grid in y-direction\n",
    "        x_pad : float \n",
    "            Length of padding in x-direction\n",
    "        y_pad : float \n",
    "            Length of padding in y-direction\n",
    "        power: float\n",
    "            Exponent used when evaluating inverse distance weight. \n",
    "        epsilon: float\n",
    "            A floor value used when evaluating inverse distance weight. \n",
    "        k_nearest_points: int \n",
    "            k-nearest-point used when evaluating inverse distance weight.  \n",
    "        max_distance: float\n",
    "            A separation distance used to maks grid points away from the (x, y) locations.\n",
    "        \n",
    "        Returns        \n",
    "        -------\n",
    "        \n",
    "\n",
    "    \"\"\"\n",
    "    xmin, xmax = xy[:,0].min()-x_pad, xy[:,0].max()+x_pad\n",
    "    ymin, ymax = xy[:,1].min()-y_pad, xy[:,1].max()+y_pad\n",
    "\n",
    "    nx = int((xmax-xmin) / dx)\n",
    "    ny = int((ymax-ymin) / dy)\n",
    "    hx = np.ones(nx) * dx\n",
    "    hy = np.ones(ny) * dy\n",
    "    x = np.arange(nx)*dx + xmin\n",
    "    y = np.arange(ny)*dy + ymin\n",
    "    X, Y = np.meshgrid(x, y)\n",
    "\n",
    "    tree = KDTree(xy)\n",
    "\n",
    "    d, inds_idw = tree.query(np.c_[X.flatten(), Y.flatten()], k=int(k_nearest_points))\n",
    "    if epsilon is None:\n",
    "        epsilon = np.min([dx, dy])\n",
    "    w = 1.0 / ((d+epsilon) ** power)\n",
    "    values_idw = (np.sum(w * values[inds_idw], axis=1) / np.sum(w, axis=1))\n",
    "    mask_inds = ~distance_mask(\n",
    "        (xy[:,0], xy[:,1]), maxdist=max_distance, coordinates=(X.flatten(), Y.flatten())\n",
    "    )\n",
    "    values_idw[mask_inds] = np.nan\n",
    "    values_idw = values_idw.reshape(X.shape)\n",
    "    return x, y, values_idw"
   ]
  },
  {
   "cell_type": "code",
   "execution_count": null,
   "id": "a7b4d0e2",
   "metadata": {},
   "outputs": [],
   "source": [
    "i_layer = 10\n",
    "x, y, values_idw = inverse_distance_interpolation(\n",
    "    topography[:,:2], resistivity[:,i_layer], \n",
    "    dx=200, dy=200,\n",
    "    max_distance=4000., k_nearest_points=100, power=1\n",
    ")"
   ]
  },
  {
   "cell_type": "code",
   "execution_count": null,
   "id": "efc921b7",
   "metadata": {},
   "outputs": [],
   "source": [
    "values_idw.shape"
   ]
  },
  {
   "cell_type": "code",
   "execution_count": null,
   "id": "a2a09ca9",
   "metadata": {},
   "outputs": [],
   "source": [
    "fig, ax = plt.subplots(1,1, figsize=(10, 6))\n",
    "depth = np.cumsum(np.r_[0., hz])\n",
    "out = plt.pcolormesh(x, y, values_idw, norm=LogNorm(vmin=8, vmax=100), \n",
    "    cmap='turbo'\n",
    ")\n",
    "ax.plot(topography[:,0], topography[:,1], 'k.', ms=0.001)\n",
    "ax.set_xlabel(\"Easting (m)\")\n",
    "ax.set_ylabel(\"Northing (m)\")\n",
    "cb = plt.colorbar(out)\n",
    "cb.set_label('Resistivity ($\\Omega$m)')\n",
    "ax.grid(True, alpha=0.5)\n",
    "ax.set_aspect(1)\n",
    "ax.set_title(\"Depth at {:.1f} m\".format(depth[i_layer]), fontsize=14)"
   ]
  },
  {
   "cell_type": "markdown",
   "id": "b1d1ff43",
   "metadata": {},
   "source": [
    "## Step 7: Plot the resistivity model in 3D\n",
    "- Export to files to be visualized in Leapfrog"
   ]
  },
  {
   "cell_type": "code",
   "execution_count": null,
   "id": "e1827316",
   "metadata": {},
   "outputs": [],
   "source": [
    "from SimPEG import utils\n",
    "def write_aem_leapfrog_csv(\n",
    "    hz, Line, topography, properties,\n",
    "    name_properties=['resistivity'],\n",
    "    nskip=1, work_dir='./', fname_header=''\n",
    "):\n",
    "\n",
    "    n_sounding_all = topography.shape[0]\n",
    "    stitched_model = Stitched1DModel(\n",
    "        hz=hz,\n",
    "        line=Line[::nskip],\n",
    "        topography=topography[::nskip,:].copy()\n",
    "    )\n",
    "    depth_from = np.zeros((hz.size, stitched_model.n_sounding), order='F')\n",
    "    depth_to = np.zeros((hz.size, stitched_model.n_sounding), order='F')\n",
    "\n",
    "    # collar information\n",
    "    lineid_collar = Line[::nskip]\n",
    "    wellid_collar = np.arange(lineid_collar.size) + 1\n",
    "\n",
    "    north_collar = stitched_model.topography[:,1]\n",
    "    east_collar = stitched_model.topography[:,0]\n",
    "    depth_max_collar = np.ones_like(wellid_collar) * hz.sum()\n",
    "    elevation_collar = stitched_model.topography[:,2]\n",
    "\n",
    "    # interval information\n",
    "\n",
    "    for ii in range(stitched_model.n_sounding):\n",
    "        depth_from[:,ii] = stitched_model.mesh_1d.vectorNx[:-1]\n",
    "        depth_to[:,ii] = stitched_model.mesh_1d.vectorNx[1:]\n",
    "\n",
    "    lineid = stitched_model.line.repeat(hz.size)\n",
    "    wellid = wellid_collar.repeat(hz.size)\n",
    "    east = utils.mkvc(stitched_model.xyz[:,0])\n",
    "    north = utils.mkvc(stitched_model.xyz[:,1])\n",
    "    depth_from = utils.mkvc(depth_from[:,:])\n",
    "    depth_to = utils.mkvc(depth_to[:,:])\n",
    "\n",
    "    df_collar = pd.DataFrame(data=np.c_[wellid_collar, stitched_model.line, east_collar, north_collar, elevation_collar, depth_max_collar], columns=['wellid', 'Line', 'X', 'Y', 'elevation', 'depth'])\n",
    "    df_collar.to_csv(work_dir+'collar-{:s}.csv'.format(fname_header), index=False)\n",
    "\n",
    "\n",
    "    distance_collar = np.zeros_like(wellid_collar)\n",
    "    azimuth_collar = np.zeros_like(wellid_collar)\n",
    "    dip_collar = np.ones_like(wellid_collar) * 90.\n",
    "\n",
    "    df_survey = pd.DataFrame(data=np.c_[wellid_collar, distance_collar, azimuth_collar, dip_collar], columns=['wellid', 'distance', 'azimuth', 'dip'])\n",
    "    df_survey.to_csv(work_dir+'survey-{:s}.csv'.format(fname_header), index=False)\n",
    "    data = np.c_[wellid, depth_from, depth_to]\n",
    "    for ii in range (len(name_properties)):\n",
    "        data = np.c_[data, properties[:,ii].reshape((n_sounding_all, hz.size))[::nskip, :].flatten()]\n",
    "    df_interval = pd.DataFrame(\n",
    "        data=data,\n",
    "        columns=['wellid', 'from', 'to'] + name_properties\n",
    "    )\n",
    "    df_interval.to_csv(work_dir+'interval-{:s}.csv'.format(fname_header), index=False)\n",
    "    return df_collar, df_survey, df_interval"
   ]
  },
  {
   "cell_type": "code",
   "execution_count": null,
   "id": "ac936bd0",
   "metadata": {},
   "outputs": [],
   "source": [
    "df_collar, df_survey, df_interval = write_aem_leapfrog_csv(\n",
    "    hz, line, topography, resistivity.flatten().reshape([-1,1]),\n",
    "    name_properties=['resistivity'],\n",
    "    nskip=10, work_dir='./', fname_header='kaweah'\n",
    ")"
   ]
  },
  {
   "cell_type": "code",
   "execution_count": null,
   "id": "5f84f1d4",
   "metadata": {},
   "outputs": [],
   "source": [
    "!ls"
   ]
  },
  {
   "cell_type": "markdown",
   "id": "77473583",
   "metadata": {},
   "source": [
    "## Step 8: Plot the resistivity model in as a 3D grid\n",
    "- Interpolate the resistivity model to a 3D grid\n",
    "- Export to files to be visualized in Paraview"
   ]
  },
  {
   "cell_type": "code",
   "execution_count": null,
   "id": "76e24293",
   "metadata": {},
   "outputs": [],
   "source": [
    "model.get_3d_mesh()"
   ]
  },
  {
   "cell_type": "code",
   "execution_count": null,
   "id": "4d074724",
   "metadata": {},
   "outputs": [],
   "source": [
    "model.get_interpolation_matrix(npts=100)"
   ]
  },
  {
   "cell_type": "code",
   "execution_count": null,
   "id": "8f10190e",
   "metadata": {},
   "outputs": [],
   "source": [
    "from verde import distance_mask\n",
    "resistivity_3d = model.interpolate_from_1d_to_3d(resistivity_vec)\n",
    "mask = distance_mask(\n",
    "    (topography[:,0], topography[:,1]), \n",
    "    maxdist=3000, \n",
    "    coordinates=(model.mesh_3d.gridCC[:,0], model.mesh_3d.gridCC[:,1])\n",
    ")\n",
    "resistivity_3d = resistivity_3d.flatten(order='F')\n",
    "resistivity_3d[~mask] = np.nan"
   ]
  },
  {
   "cell_type": "code",
   "execution_count": null,
   "id": "16b10374",
   "metadata": {},
   "outputs": [],
   "source": [
    "resistivity_3d.shape"
   ]
  },
  {
   "cell_type": "code",
   "execution_count": null,
   "id": "bce11563",
   "metadata": {},
   "outputs": [],
   "source": [
    "model.mesh_3d.n_cells"
   ]
  },
  {
   "cell_type": "code",
   "execution_count": null,
   "id": "c1d7ac32",
   "metadata": {},
   "outputs": [],
   "source": [
    "model.mesh_3d.write_UBC(\"mesh.msh\")"
   ]
  },
  {
   "cell_type": "code",
   "execution_count": null,
   "id": "8cdc7f64",
   "metadata": {},
   "outputs": [],
   "source": [
    "model.mesh_3d.write_model_UBC(\"model.mod\", resistivity_3d)"
   ]
  },
  {
   "cell_type": "code",
   "execution_count": null,
   "id": "5a21a112",
   "metadata": {},
   "outputs": [],
   "source": [
    "model.mesh_3d.write_vtk(\"model.vtr\", models={'resistivity':resistivity_3d})"
   ]
  },
  {
   "cell_type": "code",
   "execution_count": null,
   "id": "9588b75c",
   "metadata": {},
   "outputs": [],
   "source": [
    "!ls"
   ]
  },
  {
   "cell_type": "markdown",
   "id": "d1989018",
   "metadata": {},
   "source": [
    "# Questions?"
   ]
  }
 ],
 "metadata": {
  "kernelspec": {
   "display_name": "Python 3",
   "language": "python",
   "name": "python3"
  },
  "language_info": {
   "codemirror_mode": {
    "name": "ipython",
    "version": 3
   },
   "file_extension": ".py",
   "mimetype": "text/x-python",
   "name": "python",
   "nbconvert_exporter": "python",
   "pygments_lexer": "ipython3",
   "version": "3.8.8"
  }
 },
 "nbformat": 4,
 "nbformat_minor": 5
}
